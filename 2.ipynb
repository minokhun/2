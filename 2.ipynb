{
 "cells": [
  {
   "cell_type": "markdown",
   "metadata": {},
   "source": [
    "## 1) Count all the words in the text file. Store each word in the dictionary as a key, and the count as a value. "
   ]
  },
  {
   "cell_type": "code",
   "execution_count": 39,
   "metadata": {
    "scrolled": true
   },
   "outputs": [
    {
     "name": "stdout",
     "output_type": "stream",
     "text": [
      "[\"A transistor is a semiconductor device used to amplify or switch electronic signals and electrical power. Transistors are one of the basic building blocks of modern electronics. It is composed of semiconductor material usually with at least three terminals for connection to an external circuit. A voltage or current applied to one pair of the transistor's terminals controls the current through another pair of terminals. Because the controlled (output) power can be higher than the controlling (input) power, a transistor can amplify a signal. Today, some transistors are packaged individually, but many more are found embedded in integrated circuits.\\n\", 'Austro-Hungarian physicist Julius Edgar Lilienfeld proposed the concept of a field-effect transistor in 1926, but it was not possible to actually construct a working device at that time. The first working device to be built was a point-contact transistor invented in 1947 by American physicists John Bardeen and Walter Brattain while working under William Shockley at Bell Labs. The three shared the 1956 Nobel Prize in Physics for their achievement. The most widely used type of transistor is the MOSFET, which was invented by Mohamed Atalla and Dawon Kahng at Bell Labs in 1959. Transistors revolutionized the field of electronics, and paved the way for smaller and cheaper radios, calculators, and computers, among other things.\\n', 'Most transistors are made from very pure silicon, and some from germanium, but certain other semiconductor materials are sometimes used. A transistor may have only one kind of charge carrier, in a field-effect transistor, or may have two kinds of charge carriers in bipolar junction transistor devices. Compared with the vacuum tube, transistors are generally smaller and require less power to operate. Certain vacuum tubes have advantages over transistors at very high operating frequencies or high operating voltages. Many types of transistors are made to standardized specifications by multiple manufacturers. ']\n"
     ]
    }
   ],
   "source": [
    "# Open the file\n",
    "text = open(\"text.txt\",\"r\")\n"
   ]
  },
  {
   "cell_type": "code",
   "execution_count": 40,
   "metadata": {},
   "outputs": [
    {
     "name": "stdout",
     "output_type": "stream",
     "text": [
      "{'time.', 'point-contact', 'invented', '1947', 'Lilienfeld', 'Shockley', 'It', 'type', 'power.', 'are', 'tubes', 'Because', 'John', 'which', 'among', '(output)', 'Nobel', 'three', 'Walter', 'with', 'most', 'higher', 'germanium,', 'Atalla', 'power', 'carrier,', 'external', 'charge', 'proposed', 'used', 'blocks', 'Bardeen', 'material', 'modern', 'built', 'one', 'Today,', 'concept', 'Edgar', 'working', 'very', 'paved', 'their', 'American', 'multiple', 'controlled', 'be', 'physicists', 'field', 'Physics', 'is', 'Dawon', 'The', '1959.', 'signals', 'found', 'may', 'while', 'integrated', 'William', 'way', 'certain', 'Many', 'devices.', 'applied', 'many', 'widely', 'actually', 'pure', 'sometimes', 'electrical', 'circuit.', 'not', 'basic', 'and', 'have', 'frequencies', 'specifications', 'require', 'pair', 'electronics.', 'power,', 'transistor,', 'than', 'Austro-Hungarian', '1956', 'cheaper', 'Prize', 'Transistors', 'terminals', 'vacuum', 'Compared', 'switch', 'least', 'smaller', 'calculators,', 'shared', 'materials', 'composed', 'Labs', 'but', 'to', 'current', 'MOSFET,', 'revolutionized', 'kind', 'only', 'device', 'from', 'more', 'at', 'controlling', 'transistor', '(input)', 'carriers', 'computers,', 'types', 'controls', 'Certain', 'construct', 'an', 'was', 'voltages.', 'used.', 'usually', 'standardized', 'operating', 'that', 'generally', 'connection', \"transistor's\", 'it', 'advantages', 'Kahng', 'building', 'individually,', 'a', 'or', 'transistors', 'packaged', 'another', '1926,', 'signal.', 'can', 'in', 'operate.', 'A', 'electronic', 'possible', 'voltage', 'circuits.', 'under', 'kinds', 'high', 'by', 'field-effect', 'through', 'Julius', 'Mohamed', 'over', 'made', 'semiconductor', 'terminals.', 'silicon,', 'two', 'first', 'Brattain', 'electronics,', 'embedded', 'other', 'bipolar', 'junction', 'some', 'things.', 'Most', 'less', 'physicist', 'manufacturers.', 'radios,', 'Labs.', 'for', 'tube,', 'Bell', 'amplify', 'the', 'achievement.', 'of'}\n",
      "{'time.': 1, 'point-contact': 1, 'invented': 2, '1947': 1, 'Lilienfeld': 1, 'Shockley': 1, 'It': 1, 'type': 1, 'power.': 1, 'are': 7, 'tubes': 1, 'Because': 1, 'John': 1, 'which': 1, 'among': 1, '(output)': 1, 'Nobel': 1, 'three': 2, 'Walter': 1, 'with': 2, 'most': 1, 'higher': 1, 'germanium,': 1, 'Atalla': 1, 'power': 2, 'carrier,': 1, 'external': 1, 'charge': 2, 'proposed': 1, 'used': 2, 'blocks': 1, 'Bardeen': 1, 'material': 1, 'modern': 1, 'built': 1, 'one': 3, 'Today,': 1, 'concept': 1, 'Edgar': 1, 'working': 3, 'very': 2, 'paved': 1, 'their': 1, 'American': 1, 'multiple': 1, 'controlled': 1, 'be': 2, 'physicists': 1, 'field': 1, 'Physics': 1, 'is': 3, 'Dawon': 1, 'The': 3, '1959.': 1, 'signals': 1, 'found': 1, 'may': 2, 'while': 1, 'integrated': 1, 'William': 1, 'way': 1, 'certain': 1, 'Many': 1, 'devices.': 1, 'applied': 1, 'many': 1, 'widely': 1, 'actually': 1, 'pure': 1, 'sometimes': 1, 'electrical': 1, 'circuit.': 1, 'not': 1, 'basic': 1, 'and': 8, 'have': 3, 'frequencies': 1, 'specifications': 1, 'require': 1, 'pair': 2, 'electronics.': 1, 'power,': 1, 'transistor,': 1, 'than': 1, 'Austro-Hungarian': 1, '1956': 1, 'cheaper': 1, 'Prize': 1, 'Transistors': 2, 'terminals': 2, 'vacuum': 2, 'Compared': 1, 'switch': 1, 'least': 1, 'smaller': 2, 'calculators,': 1, 'shared': 1, 'materials': 1, 'composed': 1, 'Labs': 1, 'but': 3, 'to': 7, 'current': 2, 'MOSFET,': 1, 'revolutionized': 1, 'kind': 1, 'only': 1, 'device': 3, 'from': 2, 'more': 1, 'at': 5, 'controlling': 1, 'transistor': 7, '(input)': 1, 'carriers': 1, 'computers,': 1, 'types': 1, 'controls': 1, 'Certain': 1, 'construct': 1, 'an': 1, 'was': 3, 'voltages.': 1, 'used.': 1, 'usually': 1, 'standardized': 1, 'operating': 2, 'that': 1, 'generally': 1, 'connection': 1, \"transistor's\": 1, 'it': 1, 'advantages': 1, 'Kahng': 1, 'building': 1, 'individually,': 1, 'a': 7, 'or': 4, 'transistors': 5, 'packaged': 1, 'another': 1, '1926,': 1, 'signal.': 1, 'can': 2, 'in': 7, 'operate.': 1, 'A': 3, 'electronic': 1, 'possible': 1, 'voltage': 1, 'circuits.': 1, 'under': 1, 'kinds': 1, 'high': 2, 'by': 3, 'field-effect': 2, 'through': 1, 'Julius': 1, 'Mohamed': 1, 'over': 1, 'made': 2, 'semiconductor': 3, 'terminals.': 1, 'silicon,': 1, 'two': 1, 'first': 1, 'Brattain': 1, 'electronics,': 1, 'embedded': 1, 'other': 2, 'bipolar': 1, 'junction': 1, 'some': 2, 'things.': 1, 'Most': 1, 'less': 1, 'physicist': 1, 'manufacturers.': 1, 'radios,': 1, 'Labs.': 1, 'for': 3, 'tube,': 1, 'Bell': 2, 'amplify': 2, 'the': 11, 'achievement.': 1, 'of': 11}\n"
     ]
    }
   ],
   "source": [
    "words = []\n",
    "#===================================================================================\n",
    "# For each line in lines\n",
    "\n",
    "    # Strip whitespace characters with the strip() method\n",
    "\n",
    "    # For each word in the stripped line ( use split() ), add it to a words set\n",
    "    \n",
    "#===================================================================================\n",
    "\n",
    "# Make sure you have a list of all words in a single list    \n",
    "\n",
    "\n",
    "#===================================================================================\n",
    "# For each key in keys\n",
    "\n",
    "# Create a key value pair in counts with key having a value of words.count(key)\n",
    "    \n",
    "#===================================================================================\n",
    "    "
   ]
  },
  {
   "cell_type": "markdown",
   "metadata": {},
   "source": [
    "## 2) Import pass and rushing stats. Clean Pass Stats. Be sure to check for duplicates. "
   ]
  },
  {
   "cell_type": "code",
   "execution_count": 41,
   "metadata": {},
   "outputs": [],
   "source": [
    "import pandas as pd\n",
    "import matplotlib.pyplot as plt\n",
    "import seaborn as sns\n"
   ]
  },
  {
   "cell_type": "markdown",
   "metadata": {},
   "source": [
    "## 3) Merge the Data Sets \n"
   ]
  },
  {
   "cell_type": "code",
   "execution_count": 1,
   "metadata": {},
   "outputs": [],
   "source": [
    "# Hint, one key will not be enough. You could make your own or use a list of two.\n"
   ]
  },
  {
   "cell_type": "markdown",
   "metadata": {},
   "source": [
    "## 4) Filter the data set so it only contains the player code 1008996  "
   ]
  },
  {
   "cell_type": "code",
   "execution_count": null,
   "metadata": {},
   "outputs": [],
   "source": []
  },
  {
   "cell_type": "markdown",
   "metadata": {},
   "source": [
    "## 5) For any NaN values, replace them with the mean. "
   ]
  },
  {
   "cell_type": "code",
   "execution_count": null,
   "metadata": {},
   "outputs": [],
   "source": []
  },
  {
   "cell_type": "markdown",
   "metadata": {},
   "source": [
    "## 6) Create a field called Total TD from Pass/Rush TDs. Create a field called 'points scored' from Total TDs "
   ]
  },
  {
   "cell_type": "code",
   "execution_count": null,
   "metadata": {},
   "outputs": [],
   "source": []
  },
  {
   "cell_type": "markdown",
   "metadata": {},
   "source": [
    "## 7) Create a plot showing Total TDs for each game "
   ]
  },
  {
   "cell_type": "code",
   "execution_count": 46,
   "metadata": {},
   "outputs": [
    {
     "data": {
      "text/plain": [
       "<matplotlib.axes._subplots.AxesSubplot at 0x21da5cb4b48>"
      ]
     },
     "execution_count": 46,
     "metadata": {},
     "output_type": "execute_result"
    },
    {
     "data": {
      "image/png": "[encoded data removed]",
      "text/plain": [
       "<Figure size 432x288 with 1 Axes>"
      ]
     },
     "metadata": {
      "needs_background": "light"
     },
     "output_type": "display_data"
    }
   ],
   "source": []
  },
  {
   "cell_type": "code",
   "execution_count": null,
   "metadata": {},
   "outputs": [],
   "source": []
  }
 ],
 "metadata": {
  "kernelspec": {
   "display_name": "Python 3 (ipykernel)",
   "language": "python",
   "name": "python3"
  },
  "language_info": {
   "codemirror_mode": {
    "name": "ipython",
    "version": 3
   },
   "file_extension": ".py",
   "mimetype": "text/x-python",
   "name": "python",
   "nbconvert_exporter": "python",
   "pygments_lexer": "ipython3",
   "version": "3.8.8"
  }
 },
 "nbformat": 4,
 "nbformat_minor": 2
}
